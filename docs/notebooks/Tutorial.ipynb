{
 "cells": [
  {
   "cell_type": "code",
   "execution_count": 1,
   "id": "095811c5",
   "metadata": {},
   "outputs": [],
   "source": [
    "import numpy as np\n",
    "from mriqc_learn.datasets import abide\n",
    "from mriqc_learn.model_selection import split"
   ]
  },
  {
   "cell_type": "code",
   "execution_count": 2,
   "id": "cef77e99",
   "metadata": {},
   "outputs": [],
   "source": [
    "from sklearn.svm import SVC\n",
    "from sklearn.model_selection import GridSearchCV, cross_val_score, KFold\n",
    "from mriqc_learn.models import preprocess as pp\n",
    "from sklearn.pipeline import Pipeline"
   ]
  },
  {
   "cell_type": "code",
   "execution_count": 3,
   "id": "a1fea09f",
   "metadata": {},
   "outputs": [
    {
     "name": "stdout",
     "output_type": "stream",
     "text": [
      "Discard=14.168937329700272\n",
      "Doubtful=1.5440508628519527\n",
      "Accept=84.28701180744777\n"
     ]
    }
   ],
   "source": [
    "(train_x, train_y), (_, _) = abide.load_data(split_strategy=\"none\")\n",
    "train_x[\"site\"] = train_y.site\n",
    "\n",
    "# Massage targets\n",
    "train_y = train_y[[\"rater_3\"]].values.squeeze()\n",
    "print(f\"Discard={100 * (train_y == -1).sum() / len(train_y)}\")\n",
    "print(f\"Doubtful={100 * (train_y == 0).sum() / len(train_y)}\")\n",
    "print(f\"Accept={100 * (train_y == 1).sum() / len(train_y)}\")\n",
    "train_y[train_y == 0] = -1\n",
    "train_y += 1\n",
    "train_y[train_y > 0] = 1"
   ]
  },
  {
   "cell_type": "code",
   "execution_count": 4,
   "id": "f74bb7f0",
   "metadata": {},
   "outputs": [
    {
     "data": {
      "text/plain": [
       "14"
      ]
     },
     "execution_count": 4,
     "metadata": {},
     "output_type": "execute_result"
    }
   ],
   "source": [
    "inner_cv = split.LeavePSitesOut(1, robust=True)\n",
    "outer_cv = split.LeavePSitesOut(1, robust=True)\n",
    "inner_cv.get_n_splits(X=train_x, y=train_y)"
   ]
  },
  {
   "cell_type": "code",
   "execution_count": 5,
   "id": "88c310ec",
   "metadata": {},
   "outputs": [],
   "source": [
    "steps = [\n",
    "    (\"drop_ft\", pp.DropColumns(\n",
    "        drop=[f\"size_{ax}\" for ax in \"xyz\"] + [f\"spacing_{ax}\" for ax in \"xyz\"]\n",
    "    )),\n",
    "    (\"scale\", pp.SiteRobustScaler()),\n",
    "    (\"site_pred\", pp.SiteCorrelationSelector()),\n",
    "    # (\"print1\", pp.PrintColumns()),\n",
    "    (\"winnow\", pp.NoiseWinnowFeatSelect(use_classifier=True)),\n",
    "    (\"drop_site\", pp.DropColumns(drop=[\"site\"])),\n",
    "    # (\"print2\", pp.PrintColumns()),\n",
    "    (\"svc\", SVC()),\n",
    "]\n",
    "\n",
    "pipe = Pipeline(steps)"
   ]
  },
  {
   "cell_type": "code",
   "execution_count": 6,
   "id": "643a445e",
   "metadata": {},
   "outputs": [],
   "source": [
    "# clf = pipe.fit(train_x, y=train_y)"
   ]
  },
  {
   "cell_type": "code",
   "execution_count": 7,
   "id": "c5244fec",
   "metadata": {},
   "outputs": [],
   "source": [
    "p_grid = [{\n",
    "    \"scale__unit_variance\": [True, False],\n",
    "    \"scale__with_centering\": [True, False],\n",
    "    \"site_pred__disable\": [False, True],\n",
    "    \"winnow__disable\": [False, True],\n",
    "    \"svc__kernel\": [\"rbf\"],\n",
    "    \"svc__C\": [10],\n",
    "    \"svc__gamma\": [0.1],\n",
    "}]"
   ]
  },
  {
   "cell_type": "code",
   "execution_count": null,
   "id": "31706076",
   "metadata": {},
   "outputs": [
    {
     "name": "stdout",
     "output_type": "stream",
     "text": [
      "Fitting 14 folds for each of 16 candidates, totalling 224 fits\n"
     ]
    }
   ],
   "source": [
    "# Nested CV with parameter optimization\n",
    "clf = GridSearchCV(\n",
    "    estimator=pipe,\n",
    "    param_grid=p_grid,\n",
    "    cv=inner_cv,\n",
    "    verbose=3,\n",
    "    n_jobs=30,\n",
    "    scoring=\"roc_auc\",\n",
    ")\n",
    "clf.fit(train_x, y=train_y)"
   ]
  },
  {
   "cell_type": "code",
   "execution_count": null,
   "id": "cdf6e869",
   "metadata": {},
   "outputs": [],
   "source": [
    "nested_score = cross_val_score(\n",
    "    clf,\n",
    "    X=train_x,\n",
    "    y=train_y,\n",
    "    cv=outer_cv,\n",
    "    scoring=\"roc_auc\",\n",
    "    verbose=3,\n",
    "    n_jobs=30,\n",
    ")\n",
    "nested_score.mean()"
   ]
  },
  {
   "cell_type": "code",
   "execution_count": null,
   "id": "ef99f68d",
   "metadata": {},
   "outputs": [],
   "source": [
    "clf.cv_results_"
   ]
  },
  {
   "cell_type": "raw",
   "id": "43ed34d9",
   "metadata": {},
   "source": []
  }
 ],
 "metadata": {
  "kernelspec": {
   "display_name": "Python 3 (ipykernel)",
   "language": "python",
   "name": "python3"
  },
  "language_info": {
   "codemirror_mode": {
    "name": "ipython",
    "version": 3
   },
   "file_extension": ".py",
   "mimetype": "text/x-python",
   "name": "python",
   "nbconvert_exporter": "python",
   "pygments_lexer": "ipython3",
   "version": "3.8.5"
  }
 },
 "nbformat": 4,
 "nbformat_minor": 5
}
