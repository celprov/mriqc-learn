{
 "cells": [
  {
   "cell_type": "code",
   "execution_count": 1,
   "id": "c90df91a",
   "metadata": {},
   "outputs": [],
   "source": [
    "import numpy as np\n",
    "from mriqc_learn.datasets import abide\n",
    "from mriqc_learn.model_selection import split"
   ]
  },
  {
   "cell_type": "code",
   "execution_count": 2,
   "id": "9145b348",
   "metadata": {},
   "outputs": [],
   "source": [
    "from sklearn.svm import SVC\n",
    "from sklearn.model_selection import GridSearchCV, cross_val_score, KFold\n",
    "from mriqc_learn.models import preprocess as pp\n",
    "from sklearn.pipeline import Pipeline"
   ]
  },
  {
   "cell_type": "code",
   "execution_count": 3,
   "id": "97996955",
   "metadata": {},
   "outputs": [
    {
     "name": "stdout",
     "output_type": "stream",
     "text": [
      "Discard=14.168937329700272\n",
      "Doubtful=1.5440508628519527\n",
      "Accept=84.28701180744777\n"
     ]
    }
   ],
   "source": [
    "(train_x, train_y), (_, _) = abide.load_data(split_strategy=\"none\")\n",
    "train_x[\"site\"] = train_y.site\n",
    "\n",
    "# Massage targets\n",
    "train_y = train_y[[\"rater_3\"]].values\n",
    "print(f\"Discard={100 * (train_y == -1).sum() / len(train_y)}\")\n",
    "print(f\"Doubtful={100 * (train_y == 0).sum() / len(train_y)}\")\n",
    "print(f\"Accept={100 * (train_y == 1).sum() / len(train_y)}\")\n",
    "train_y[train_y == 0] = -1\n",
    "train_y += 1\n",
    "train_y[train_y > 0] = 1"
   ]
  },
  {
   "cell_type": "code",
   "execution_count": 5,
   "id": "f81fe93f",
   "metadata": {},
   "outputs": [
    {
     "data": {
      "text/plain": [
       "14"
      ]
     },
     "execution_count": 5,
     "metadata": {},
     "output_type": "execute_result"
    }
   ],
   "source": [
    "inner_cv = split.LeavePSitesOut(1, robust=True)\n",
    "outer_cv = split.LeavePSitesOut(1, robust=True)\n",
    "inner_cv.get_n_splits(X=train_x, y=train_y)"
   ]
  },
  {
   "cell_type": "code",
   "execution_count": 6,
   "id": "a269a9fe",
   "metadata": {},
   "outputs": [],
   "source": [
    "steps = [\n",
    "    (\"drop_ft\", pp.DropColumns(\n",
    "        drop=[f\"size_{ax}\" for ax in \"xyz\"] + [f\"spacing_{ax}\" for ax in \"xyz\"]\n",
    "    )),\n",
    "    (\"scale\", pp.SiteRobustScaler()),\n",
    "    (\"site_pred\", pp.SiteCorrelationSelector()),\n",
    "    # (\"print1\", pp.PrintColumns()),\n",
    "    (\"winnow\", pp.NoiseWinnowFeatSelect()),\n",
    "    (\"drop_site\", pp.DropColumns(drop=[\"site\"])),\n",
    "    # (\"print2\", pp.PrintColumns()),\n",
    "    (\"svc\", SVC()),\n",
    "]\n",
    "\n",
    "pipe = Pipeline(steps)"
   ]
  },
  {
   "cell_type": "code",
   "execution_count": 7,
   "id": "8c16a23c",
   "metadata": {},
   "outputs": [],
   "source": [
    "# clf = pipe.fit(train_x, y=train_y.rater_3)"
   ]
  },
  {
   "cell_type": "code",
   "execution_count": 8,
   "id": "0dc38bce",
   "metadata": {},
   "outputs": [],
   "source": [
    "p_grid = [{\"svc__kernel\": [\"rbf\"], \"svc__C\": [1, 10, 100], \"svc__gamma\": [0.01, 0.1]}]"
   ]
  },
  {
   "cell_type": "code",
   "execution_count": 9,
   "id": "099c1219",
   "metadata": {},
   "outputs": [],
   "source": [
    "# Nested CV with parameter optimization\n",
    "clf = GridSearchCV(estimator=pipe, param_grid=p_grid, cv=inner_cv)\n",
    "# clf.fit(train_x, y=train_y.rater_3)"
   ]
  },
  {
   "cell_type": "code",
   "execution_count": null,
   "id": "35e793b0",
   "metadata": {},
   "outputs": [],
   "source": [
    "nested_score = cross_val_score(clf, X=train_x, y=train_y, cv=outer_cv)\n",
    "nested_score.mean()"
   ]
  },
  {
   "cell_type": "raw",
   "id": "92a4a4b6",
   "metadata": {},
   "source": []
  }
 ],
 "metadata": {
  "kernelspec": {
   "display_name": "Python 3 (ipykernel)",
   "language": "python",
   "name": "python3"
  },
  "language_info": {
   "codemirror_mode": {
    "name": "ipython",
    "version": 3
   },
   "file_extension": ".py",
   "mimetype": "text/x-python",
   "name": "python",
   "nbconvert_exporter": "python",
   "pygments_lexer": "ipython3",
   "version": "3.8.5"
  }
 },
 "nbformat": 4,
 "nbformat_minor": 5
}
